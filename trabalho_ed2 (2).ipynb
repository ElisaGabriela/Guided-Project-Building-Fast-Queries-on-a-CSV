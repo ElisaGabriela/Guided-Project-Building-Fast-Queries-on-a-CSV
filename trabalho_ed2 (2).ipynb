{
 "cells": [
  {
   "cell_type": "markdown",
   "id": "0bac6d03",
   "metadata": {},
   "source": [
    "<h1>Dataquest: Building Fast Queries on a CSV</h1>\n",
    "\n",
    "Adaptação da solução do projeto guiado presente no curso \"Algorithm Complexity\" do Dataquest. Foi utilizado o dataset https://www.kaggle.com/datasets/pavellexyr/the-reddit-climate-change-dataset e foram implementadas 3 funções:\n",
    "\n",
    "<br>\n",
    "a-) Dado um id de uma mensagem no Reddit, retornar todas as informações sobre a mensagem;\n",
    "<br>\n",
    "b-) Dado um limite inferior e superior da coluna \"sentiment\", retornar todas as mensagens com valores de sentimento entre os limites inferior e superior;\n",
    "<br>\n",
    "c-) Dado um valor de parâmetro, retornar duas mensagens cuja soma do valor da coluna \"score\" é igual ao parâmetro. Retornar -1 se não existir."
   ]
  },
  {
   "cell_type": "code",
   "execution_count": 22,
   "id": "5d32a90c",
   "metadata": {},
   "outputs": [],
   "source": [
    "#Importando bibliotecas e o dataset\n",
    "\n",
    "import csv \n",
    "import time\n",
    "import random"
   ]
  },
  {
   "cell_type": "code",
   "execution_count": 23,
   "id": "9e627d28",
   "metadata": {},
   "outputs": [],
   "source": [
    "def row_sentiment(row):\n",
    "    return row[8]\n",
    "\n",
    "class AnaliseDF():\n",
    "    #Inicializando o dataset\n",
    "    def __init__(self, dataset):\n",
    "        with open(dataset, encoding = 'utf-8') as file:\n",
    "            reader = csv.reader(file)\n",
    "            rows = list(reader)\n",
    "        self.header = rows[0]\n",
    "        self.rows = rows[1:]\n",
    "\n",
    "        self.id_to_row = {}\n",
    "        for row in self.rows:\n",
    "            self.id_to_row[row[1]] = row\n",
    "            \n",
    "        self.score_to_row = {}\n",
    "        for row in self.rows:\n",
    "            score = int(row[9])\n",
    "            if(row[8] == ''):\n",
    "                row[8] = 0.0\n",
    "            else:\n",
    "                row[8] = float(row[8])\n",
    "            self.score_to_row[score] = row\n",
    "            \n",
    "        self.sentiment_to_row = sorted(self.rows, key=row[-2])\n",
    "\n",
    "    #Implementação da função \"a\", onde dado um id de uma mensagem no Reddit, retorna todas as informações sobre a mensagem\n",
    "    def get_message_id(self, message_id):\n",
    "        for row in self.rows:\n",
    "            if(row[1] == message_id):\n",
    "                return row\n",
    "        return None\n",
    "    \n",
    "    def get_message_id_fast(self, message_id):\n",
    "        if(message_id in self.id_to_row):\n",
    "            return self.id_to_row[message_id]\n",
    "        return None \n",
    "    \n",
    "    #Implementação da função \"b\", onde dado um limite inferior e superior da coluna \"sentiment\", retorna todas as mensagens com valores de sentimento entre os limites inferior e superior\n",
    "    def get_messages_by_sentiment(self, lower_limit, upper_limit):\n",
    "        lower = self.get_message_by_range(lower_limit,0)\n",
    "        upper = self.get_message_by_range(upper_limit, inf)\n",
    "        \n",
    "        if(lower == -1 || upper == -1):\n",
    "            return -1\n",
    "\n",
    "        messages_body = self.sentiment_to_row[lower:upper+1]\n",
    "\n",
    "        return [row[7] for row in messages_body]\n",
    "\n",
    "    #Implementação da função \"c\", onde dado um valor de parâmetro, retorna duas mensagens cuja soma do valor da coluna \"score\" é igual ao parâmetro. Retorna -1 se não existir.\n",
    "    def check_score(self, total_score):\n",
    "        for row1 in self.rows:\n",
    "            for row2 in self.rows:\n",
    "                score1 = row1[-1]\n",
    "                score2 = row2[-1]\n",
    "                if score1 + score2 == total_score:\n",
    "                    return [row1, row2]\n",
    "        return -1\n",
    "    \n",
    "    def check_score_fast(self, target_sum):\n",
    "        for row in self.score_to_row:\n",
    "            if((target_sum-row) in self.score_to_row):\n",
    "                return [self.score_to_row[row], self.score_to_row[(target_sum-row)]]\n",
    "        return -1"
   ]
  },
  {
   "cell_type": "code",
   "execution_count": null,
   "id": "63902bc2",
   "metadata": {},
   "outputs": [],
   "source": [
    "analiseDataFrame = AnaliseDF('the-reddit-climate-change-dataset-comments.csv')"
   ]
  },
  {
   "cell_type": "markdown",
   "id": "518b72a4",
   "metadata": {},
   "source": [
    "<h2> Comparando o tempo de execução dos algoritmos </h2>"
   ]
  },
  {
   "cell_type": "code",
   "execution_count": null,
   "id": "185e5cee",
   "metadata": {},
   "outputs": [],
   "source": [
    "start = time.time()\n",
    "analiseDataFrame.get_message_id('imlbfv6')\n",
    "end = time.time()\n",
    "timeElapsed_normal = end-start\n",
    "print(\"forma tradicional: \", timeElapsed_normal)\n",
    "\n",
    "start = time.time()\n",
    "analiseDataFrame.get_message_id_fast('imlbfv6')\n",
    "end = time.time()\n",
    "timeElapsed_fast = end-start\n",
    "\n",
    "print(\"forma rápida: \", timeElapsed_fast)"
   ]
  },
  {
   "cell_type": "code",
   "execution_count": null,
   "id": "34859058",
   "metadata": {},
   "outputs": [],
   "source": [
    "start = time.time()\n",
    "analiseDataFrame.check_score(1500)\n",
    "end = time.time()\n",
    "timeElapsed_normal = end-start\n",
    "\n",
    "print(\"Forma tradicional: \",timeElapsed_normal)\n",
    "\n",
    "start = time.time()\n",
    "analiseDataFrame.check_score_fast(1500)\n",
    "end = time.time()\n",
    "timeElapsed_fast = end-start\n",
    "\n",
    "print(\"Forma rápida: \",timeElapsed_fast)"
   ]
  },
  {
   "cell_type": "code",
   "execution_count": null,
   "id": "52cde79e",
   "metadata": {},
   "outputs": [],
   "source": [
    "scores = [random.randint(0,3000) for _ in range(100)]\n",
    "\n",
    "total_time_normal = 0\n",
    "for score in scores:\n",
    "    start = time.time()\n",
    "    analiseDataFrame.check_score(score)\n",
    "    end = time.time()\n",
    "\n",
    "    total_time_normal += (end-start)\n",
    "print('Forma tradicional: ', total_time_normal)\n",
    "total_time_fast = 0\n",
    "for score in scores:\n",
    "    start = time.time()\n",
    "    analiseDataFrame.check_score_fast(score)\n",
    "    end = time.time()\n",
    "\n",
    "    total_time_fast += (end-start)\n",
    "print('Forma rápida: ', total_time_fast)"
   ]
  },
  {
   "cell_type": "code",
   "execution_count": null,
   "id": "f3c7c3e9",
   "metadata": {},
   "outputs": [],
   "source": []
  }
 ],
 "metadata": {
  "kernelspec": {
   "display_name": "Python 3 (ipykernel)",
   "language": "python",
   "name": "python3"
  },
  "language_info": {
   "codemirror_mode": {
    "name": "ipython",
    "version": 3
   },
   "file_extension": ".py",
   "mimetype": "text/x-python",
   "name": "python",
   "nbconvert_exporter": "python",
   "pygments_lexer": "ipython3",
   "version": "3.9.7"
  }
 },
 "nbformat": 4,
 "nbformat_minor": 5
}
